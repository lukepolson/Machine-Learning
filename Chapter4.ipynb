{
 "cells": [
  {
   "cell_type": "code",
   "execution_count": 1,
   "metadata": {},
   "outputs": [],
   "source": [
    "import numpy as np\n",
    "import pandas as pd\n",
    "import matplotlib.pyplot as plt"
   ]
  },
  {
   "cell_type": "markdown",
   "metadata": {},
   "source": [
    "# Training Models"
   ]
  },
  {
   "cell_type": "markdown",
   "metadata": {},
   "source": [
    "While it is very easy to use machine learning models as a black box, understanding how a model works can allow one to better choose an algorithm and design better hyperparameters."
   ]
  },
  {
   "cell_type": "markdown",
   "metadata": {},
   "source": [
    "## The Linear Regression Model"
   ]
  },
  {
   "cell_type": "markdown",
   "metadata": {},
   "source": [
    "### Intro"
   ]
  },
  {
   "cell_type": "markdown",
   "metadata": {},
   "source": [
    "The linear regression model is written as follows\n",
    "\n",
    "$$\\hat{y} = h_\\theta (\\mathbf{x}) = \\theta_T \\cdot \\mathbf{x} $$\n",
    "\n",
    "where $\\hat{y}$ is an estimator of some outcome, $\\mathbf{x}$ is the instances **feature vector** and $\\theta$ is the models **parameter vector**. For example $\\hat{y}$ might be the weight of a person on $\\mathbf{x}$ might be $x_1=\\text{height}$ and $x_2=\\text{age}$. Note that $x_0=1$ (must add this in to estimate constant term).\n",
    "\n",
    "$\\theta$ is obtained by looking at data. A good model, for example, should have $\\hat{y}$ and $\\theta_T \\cdot \\mathbf{x}$ as close together as possible for all the data provided. One measurement for *closeness* is the MSE function\n",
    "\n",
    "$$\\text{MSE}(\\mathbf{X}, h_\\theta) = \\frac{1}{m}\\sum_i (\\theta_T \\cdot \\mathbf{x}^{(i)} - y^{(i)}) $$\n",
    "\n",
    "where the index $i$ specifies the ith data point provided. It can be shown (see Logbook August 25 2019 for proof) that the value of $\\theta$ which minimizes this is\n",
    "\n",
    "$$\\hat{\\theta} = (\\mathbf{X}^T \\cdot \\mathbf{X})^{-1} \\cdot \\mathbf{X}^T \\cdot \\mathbf{y} $$\n",
    "\n",
    "where $$\\mathbf{X} = \\begin{bmatrix} \\mathbf{x}^{(1), T} \\\\\n",
    "\\mathbf{x}^{(2), T} \\\\\n",
    "...\\\\\n",
    "\\mathbf{x}^{(m), T} \\\\\n",
    "\\end{bmatrix} $$\n",
    "\n",
    "note that $\\hat{\\theta}$ is an *estimator* since it is obtained using a subsample of some population."
   ]
  },
  {
   "cell_type": "code",
   "execution_count": 2,
   "metadata": {},
   "outputs": [
    {
     "data": {
      "text/plain": [
       "<matplotlib.collections.PathCollection at 0x1150275c0>"
      ]
     },
     "execution_count": 2,
     "metadata": {},
     "output_type": "execute_result"
    },
    {
     "data": {
      "image/png": "[encoded data removed]",
      "text/plain": [
       "<Figure size 432x288 with 1 Axes>"
      ]
     },
     "metadata": {
      "needs_background": "light"
     },
     "output_type": "display_data"
    }
   ],
   "source": [
    "x = 2 * np.random.rand(100,1) # select a bunch of random features\n",
    "y  = 4 + 3 * x + np.random.randn(100,1) # add randomness to model\n",
    "plt.scatter(x.ravel(),y.ravel())"
   ]
  },
  {
   "cell_type": "markdown",
   "metadata": {},
   "source": [
    "Its easy to compute $\\hat{\\theta}$. First we need to add in $x_0=1$"
   ]
  },
  {
   "cell_type": "code",
   "execution_count": 3,
   "metadata": {},
   "outputs": [],
   "source": [
    "X_b = np.c_[np.ones((100,1)), x]"
   ]
  },
  {
   "cell_type": "markdown",
   "metadata": {},
   "source": [
    "Now we use the closed form solution to approximate $\\hat{\\theta}$."
   ]
  },
  {
   "cell_type": "code",
   "execution_count": 4,
   "metadata": {},
   "outputs": [
    {
     "data": {
      "text/plain": [
       "array([[4.15315508],\n",
       "       [2.84194751]])"
      ]
     },
     "execution_count": 4,
     "metadata": {},
     "output_type": "execute_result"
    }
   ],
   "source": [
    "theta_best = np.linalg.inv(X_b.T.dot(X_b)).dot(X_b.T).dot(y)\n",
    "theta_best"
   ]
  },
  {
   "cell_type": "markdown",
   "metadata": {},
   "source": [
    "Note that they should actually be 3 and 4. Now we can make predictions."
   ]
  },
  {
   "cell_type": "code",
   "execution_count": 5,
   "metadata": {},
   "outputs": [
    {
     "data": {
      "image/png": "[encoded data removed]",
      "text/plain": [
       "<Figure size 432x288 with 1 Axes>"
      ]
     },
     "metadata": {
      "needs_background": "light"
     },
     "output_type": "display_data"
    }
   ],
   "source": [
    "theta_best = theta_best.ravel()\n",
    "y_predict = theta_best[0]+theta_best[1]*x\n",
    "plt.scatter(x,y, label='data')\n",
    "plt.scatter(x,y_predict,label='prediction')\n",
    "plt.legend()\n",
    "plt.show()"
   ]
  },
  {
   "cell_type": "markdown",
   "metadata": {},
   "source": [
    "### Scikit Learn Method"
   ]
  },
  {
   "cell_type": "code",
   "execution_count": 6,
   "metadata": {},
   "outputs": [
    {
     "data": {
      "text/plain": [
       "LinearRegression(copy_X=True, fit_intercept=True, n_jobs=None, normalize=False)"
      ]
     },
     "execution_count": 6,
     "metadata": {},
     "output_type": "execute_result"
    }
   ],
   "source": [
    "from sklearn.linear_model import LinearRegression\n",
    "lin_reg = LinearRegression()\n",
    "lin_reg.fit(x,y)"
   ]
  },
  {
   "cell_type": "code",
   "execution_count": 7,
   "metadata": {},
   "outputs": [
    {
     "data": {
      "text/plain": [
       "(array([4.15315508]), array([[2.84194751]]))"
      ]
     },
     "execution_count": 7,
     "metadata": {},
     "output_type": "execute_result"
    }
   ],
   "source": [
    "lin_reg.intercept_, lin_reg.coef_"
   ]
  },
  {
   "cell_type": "markdown",
   "metadata": {},
   "source": [
    "### Computational Complexity"
   ]
  },
  {
   "cell_type": "markdown",
   "metadata": {},
   "source": [
    "Computing the inverse of $\\mathbf{X}^T \\mathbf{X}$ is typically about $O(n^{2.4})$ to $O(n^3)$ where $n$ *is the number of features*. Thus this algorithm is slow when the number of features gets very big. On the positive side, it is only linear with respect to the number of instances (training data points) so the algorithm is $O(m)$."
   ]
  },
  {
   "cell_type": "markdown",
   "metadata": {},
   "source": [
    "## Gradient Descent"
   ]
  },
  {
   "cell_type": "markdown",
   "metadata": {},
   "source": [
    "*General Idea:* tweak parameters iteratively in order to minimize a cost function. For the linear model above, this can be accomplished by filling $\\theta$ with random alus initially and then gradually take steps until the algorithm converges to a minimum.\n",
    "\n",
    "**Learning Rate**: The size of the steps. Too low and it takes too long. Too high and you migh over jump the minima.\n",
    "\n",
    "Main problem with gradient descent is that it can sometimes converge to a local minima and not a global minima (in the case of the linear regression above, global minima=local minima but this is not always the case).\n",
    "\n",
    "*Important*: When using gradient descent with scikit learn its important that a standard scaler is used so that all features have a similar scale. Otherwise things will take too long to converge."
   ]
  },
  {
   "cell_type": "markdown",
   "metadata": {},
   "source": [
    "### Batch Gradient Descent"
   ]
  },
  {
   "cell_type": "markdown",
   "metadata": {},
   "source": [
    "Its easy to show that\n",
    "\n",
    "$$ \\nabla_\\theta \\text{MSE}(\\theta) = \\frac{2}{m}\\mathbf{X}^T \\cdot (\\mathbf{X} \\cdot \\theta - \\mathbf{y})$$\n",
    "\n",
    "When using batch gradient descent the steps are defined by\n",
    "\n",
    "$$ \\theta^{\\text{(next step)}} = \\theta-\\eta\\nabla_\\theta \\text{MSE}(\\theta) $$\n",
    "\n",
    "Note that this takes into account the entire training set."
   ]
  },
  {
   "cell_type": "code",
   "execution_count": 8,
   "metadata": {},
   "outputs": [],
   "source": [
    "eta1 = 0.1\n",
    "eta2 = 0.02\n",
    "eta3 = 0.5\n",
    "n_iterations = 1000\n",
    "m = 100\n",
    "\n",
    "theta = np.random.randn(2,1) # start with random theta\n",
    "\n",
    "def compute_thetas(theta, eta, n_iterations):\n",
    "    thetas = []\n",
    "    for iteration in range(n_iterations):\n",
    "        gradient = 2/m * X_b.T.dot(X_b.dot(theta) - y)\n",
    "        theta = theta - eta * gradient  \n",
    "        thetas.append(theta)\n",
    "    return np.array(thetas)\n",
    "\n",
    "thetas_eta1 = compute_thetas(theta, eta1, n_iterations)\n",
    "thetas_eta2 = compute_thetas(theta, eta2, n_iterations)\n",
    "thetas_eta3 = compute_thetas(theta, eta3, n_iterations)"
   ]
  },
  {
   "cell_type": "markdown",
   "metadata": {},
   "source": [
    "Visualization of how fast parameters converge."
   ]
  },
  {
   "cell_type": "code",
   "execution_count": 9,
   "metadata": {},
   "outputs": [
    {
     "data": {
      "image/png": "[encoded data removed]",
      "text/plain": [
       "<Figure size 1080x216 with 3 Axes>"
      ]
     },
     "metadata": {
      "needs_background": "light"
     },
     "output_type": "display_data"
    }
   ],
   "source": [
    "fig, ax = plt.subplots(1,3,figsize=(15,3))\n",
    "\n",
    "ax[0].plot(thetas_eta1[:,0].ravel(), label=r'$\\theta_0$')\n",
    "ax[0].plot(thetas_eta1[:,1].ravel(), label=r'$\\theta_1$')\n",
    "ax[1].plot(thetas_eta2[:,0].ravel(), label=r'$\\theta_0$')\n",
    "ax[1].plot(thetas_eta2[:,1].ravel(), label=r'$\\theta_1$')\n",
    "ax[2].plot(thetas_eta3[:,0].ravel(), label=r'$\\theta_0$')\n",
    "ax[2].plot(thetas_eta3[:,1].ravel(), label=r'$\\theta_1$')\n",
    "\n",
    "ax[0].set_title('$\\eta=0.1$')\n",
    "ax[1].set_title('$\\eta=0.02$')\n",
    "ax[2].set_title('$\\eta=0.5$')\n",
    "\n",
    "[a.set_xlabel('Iterations') for a in ax.ravel()]\n",
    "[a.legend() for a in ax.ravel()]\n",
    "plt.show()"
   ]
  },
  {
   "cell_type": "markdown",
   "metadata": {},
   "source": [
    "$\\eta=0.1$ converges well, $\\eta=0.02$ takes a little longer, and $\\eta=0.5$ has trouble converging at first (lots of overshooting)."
   ]
  },
  {
   "cell_type": "markdown",
   "metadata": {},
   "source": [
    "A good way to know when to stop doing more iterations (implemented in many machine learning packages) is to stop when the norm of the gradient vector becomes smaller than some value contained in the code $\\epsilon$ known as the **tolerance**."
   ]
  },
  {
   "cell_type": "markdown",
   "metadata": {},
   "source": [
    "### Stochastic Gradient Descent"
   ]
  },
  {
   "cell_type": "markdown",
   "metadata": {},
   "source": [
    "The problem with batch gradient descent is that it uses the entire training set at every iteration of $\\theta$. At an opposite extreme, stochastic gradient descent picks a random instance in the training set at every iteration and uses that for computation.\n",
    "\n",
    "Because this process is stochastic (random) the cost function bounces up and down, and will never quite converge to an optimal value of $\\theta$. When the cost function is very irregular and has seperate local and global minima, this bouncing around nature can actually help jump out of local minima and find the true global minima.\n",
    "\n",
    "Randomness: **Good** b/c helps escape local minima, **bad** because never quite settles on a minima.\n",
    "\n",
    "The main solution to this is to reduce the learning rate gradually over time so that the algorithm can settle at a global minima. This process is called **simulated annealing**. (Isomorphic to annealing in metalurgy where molten metal is slowly colled down)."
   ]
  },
  {
   "cell_type": "code",
   "execution_count": 10,
   "metadata": {},
   "outputs": [],
   "source": [
    "thetas= []\n",
    "m = len(X_b)\n",
    "np.random.seed(42)\n",
    "\n",
    "n_epochs = 50\n",
    "t0, t1 = 5, 50  # learning schedule hyperparameters\n",
    "\n",
    "def learning_schedule(t):\n",
    "    return t0 / (t + t1)\n",
    "\n",
    "theta = np.random.randn(2,1)  # random initialization\n",
    "\n",
    "for epoch in range(n_epochs):\n",
    "    for i in range(m):\n",
    "        random_index = np.random.randint(m)\n",
    "        xi = X_b[random_index:random_index+1]\n",
    "        yi = y[random_index:random_index+1]\n",
    "        gradients = 2 * xi.T.dot(xi.dot(theta) - yi)\n",
    "        eta = learning_schedule(epoch * m + i)\n",
    "        theta = theta - eta * gradients\n",
    "        thetas.append(theta)  \n",
    "        \n",
    "thetas = np.array(thetas)"
   ]
  },
  {
   "cell_type": "markdown",
   "metadata": {},
   "source": [
    "We iterate in rounds of $m$ iterations. Each round is called an **epoch**. For each epoch we do $m$ iterations. After each epoch we change the value of $\\eta$."
   ]
  },
  {
   "cell_type": "code",
   "execution_count": 11,
   "metadata": {},
   "outputs": [
    {
     "data": {
      "image/png": "[encoded data removed]",
      "text/plain": [
       "<Figure size 576x216 with 1 Axes>"
      ]
     },
     "metadata": {
      "needs_background": "light"
     },
     "output_type": "display_data"
    }
   ],
   "source": [
    "fig, ax = plt.subplots(1,1,figsize=(8,3))\n",
    "ax.plot(thetas[:,0].ravel(), label=r'$\\theta_0$')\n",
    "ax.plot(thetas[:,1].ravel(), label=r'$\\theta_1$')\n",
    "ax.grid()\n",
    "ax.legend()\n",
    "plt.show()"
   ]
  },
  {
   "cell_type": "markdown",
   "metadata": {},
   "source": [
    "### Mini-batch Gradient Descent\n"
   ]
  },
  {
   "cell_type": "markdown",
   "metadata": {},
   "source": [
    "Mini-batch computes the gradients based on random sets of instances called **mini-batches**. The algorithms progress in parameter space is less erratic than SGD, but its harder for the algorithm to escape from local minima. "
   ]
  },
  {
   "cell_type": "markdown",
   "metadata": {},
   "source": [
    "## Polynomial Regression"
   ]
  },
  {
   "cell_type": "markdown",
   "metadata": {},
   "source": [
    "Surprsingy, a linear model can actaully be used to fit non-linear data. This involves adding powers of each feature as new features and then training the linear model on this extended set of features."
   ]
  },
  {
   "cell_type": "code",
   "execution_count": 14,
   "metadata": {},
   "outputs": [
    {
     "data": {
      "text/plain": [
       "<matplotlib.collections.PathCollection at 0x1a1891e828>"
      ]
     },
     "execution_count": 14,
     "metadata": {},
     "output_type": "execute_result"
    },
    {
     "data": {
      "image/png": "[encoded data removed]",
      "text/plain": [
       "<Figure size 432x288 with 1 Axes>"
      ]
     },
     "metadata": {
      "needs_background": "light"
     },
     "output_type": "display_data"
    }
   ],
   "source": [
    "m = 100\n",
    "X = 6 * np.random.rand(m,1) - 3 # normally distributed between -3 and 3\n",
    "y = 0.5 * X**2 + X + 2 + np.random.rand(m,1)\n",
    "plt.scatter(X,y)"
   ]
  },
  {
   "cell_type": "markdown",
   "metadata": {},
   "source": [
    "Now we use scikit learns PolynomialFeatures to add $X^2$ as a new feature."
   ]
  },
  {
   "cell_type": "code",
   "execution_count": 15,
   "metadata": {},
   "outputs": [],
   "source": [
    "from sklearn.preprocessing import PolynomialFeatures\n",
    "poly_features = PolynomialFeatures(degree=2, include_bias=False)\n",
    "X_poly = poly_features.fit_transform(X)"
   ]
  },
  {
   "cell_type": "code",
   "execution_count": 20,
   "metadata": {},
   "outputs": [
    {
     "name": "stdout",
     "output_type": "stream",
     "text": [
      "[[ 2.01039567  4.04169076]\n",
      " [ 2.56413108  6.57476821]\n",
      " [-0.80468514  0.64751818]]\n"
     ]
    }
   ],
   "source": [
    "print(X_poly[0:3])"
   ]
  },
  {
   "cell_type": "markdown",
   "metadata": {},
   "source": [
    "Note that X_poly now contains the linear and quadratic term. Now we can apply a fit"
   ]
  },
  {
   "cell_type": "code",
   "execution_count": 22,
   "metadata": {},
   "outputs": [
    {
     "data": {
      "text/plain": [
       "(array([2.471728]), array([[0.96887666, 0.5006298 ]]))"
      ]
     },
     "execution_count": 22,
     "metadata": {},
     "output_type": "execute_result"
    }
   ],
   "source": [
    "lin_reg = LinearRegression()\n",
    "lin_reg.fit(X_poly, y)\n",
    "lin_reg.intercept_, lin_reg.coef_"
   ]
  },
  {
   "cell_type": "code",
   "execution_count": 29,
   "metadata": {},
   "outputs": [
    {
     "data": {
      "text/plain": [
       "<matplotlib.collections.PathCollection at 0x1a1903ec18>"
      ]
     },
     "execution_count": 29,
     "metadata": {},
     "output_type": "execute_result"
    },
    {
     "data": {
      "image/png": "[encoded data removed]",
      "text/plain": [
       "<Figure size 432x288 with 1 Axes>"
      ]
     },
     "metadata": {
      "needs_background": "light"
     },
     "output_type": "display_data"
    }
   ],
   "source": [
    "plt.scatter(X,y, label='Data')\n",
    "plt.scatter(X, lin_reg.predict(X_poly).ravel(), label='Prediction')"
   ]
  },
  {
   "cell_type": "markdown",
   "metadata": {},
   "source": [
    "Note that Polynomial Features doew neat things for multiple features: if we had features $X_1$ and $X_2$ and we specified degree=3, we would also get $X_1X_2^2$ and $X_2X_1^2$ (combinations of features)."
   ]
  },
  {
   "cell_type": "markdown",
   "metadata": {},
   "source": [
    "Of course its also possible to overfit the data. Suppose we use a much higher order polynomial."
   ]
  },
  {
   "cell_type": "code",
   "execution_count": 72,
   "metadata": {},
   "outputs": [
    {
     "data": {
      "text/plain": [
       "LinearRegression(copy_X=True, fit_intercept=True, n_jobs=None, normalize=False)"
      ]
     },
     "execution_count": 72,
     "metadata": {},
     "output_type": "execute_result"
    }
   ],
   "source": [
    "poly_bad_features = PolynomialFeatures(degree=20, include_bias=False)\n",
    "X_poly_bad = poly_bad_features.fit_transform(X)\n",
    "lin_reg = LinearRegression()\n",
    "lin_reg.fit(X_poly_bad, y)"
   ]
  },
  {
   "cell_type": "code",
   "execution_count": 73,
   "metadata": {},
   "outputs": [],
   "source": [
    "x = np.arange(-3,3,0.01); x = np.reshape(x, (-1, 1))\n",
    "x_r = poly_bad_features.fit_transform(x)"
   ]
  },
  {
   "cell_type": "code",
   "execution_count": 74,
   "metadata": {},
   "outputs": [
    {
     "data": {
      "text/plain": [
       "(0, 10)"
      ]
     },
     "execution_count": 74,
     "metadata": {},
     "output_type": "execute_result"
    },
    {
     "data": {
      "image/png": "[encoded data removed]",
      "text/plain": [
       "<Figure size 432x288 with 1 Axes>"
      ]
     },
     "metadata": {
      "needs_background": "light"
     },
     "output_type": "display_data"
    }
   ],
   "source": [
    "plt.scatter(X,y)\n",
    "plt.scatter(x.ravel(), lin_reg.predict(x_r).ravel())\n",
    "plt.ylim(0,10)"
   ]
  },
  {
   "cell_type": "markdown",
   "metadata": {},
   "source": [
    "Now it appears to be overfitting the noise."
   ]
  },
  {
   "cell_type": "markdown",
   "metadata": {},
   "source": [
    "**In general, how can you tell if a model is overfitting or underfitting data**? If a model performs well on a training set but generalizes poorly according to cross-validation, then the model is overfitting. If it performs poorly on both, then it is underfitting. Another way is to look at **learning curves**. These are plots of the model's performance on a validation set using a test set of varying sizes. To generate these plots one simply needs to train a model several times on different sized subsets."
   ]
  },
  {
   "cell_type": "code",
   "execution_count": 81,
   "metadata": {},
   "outputs": [],
   "source": [
    "from sklearn.metrics import mean_squared_error\n",
    "from sklearn.model_selection import train_test_split\n",
    "\n",
    "def plot_learning_curves(model, X, y):\n",
    "    X_train, X_val, y_train, y_val = train_test_split(X, y, test_size=0.2)\n",
    "    train_errors, val_errors = [], []\n",
    "    for m in range(1, len(X_train)):\n",
    "        model.fit(X_train[:m], y_train[:m])\n",
    "        y_train_predict = model.predict(X_train[:m])\n",
    "        y_val_predict = model.predict(X_val)\n",
    "        train_errors.append(mean_squared_error(y_train_predict, y_train[:m]))\n",
    "        val_errors.append(mean_squared_error(y_val_predict, y_val))\n",
    "    plt.plot(np.sqrt(train_errors), 'r-+', lw=2, label='Train')\n",
    "    plt.plot(np.sqrt(val_errors), 'b-', lw=3, label='Validation')\n",
    "        "
   ]
  },
  {
   "cell_type": "code",
   "execution_count": 84,
   "metadata": {},
   "outputs": [
    {
     "data": {
      "text/plain": [
       "<matplotlib.legend.Legend at 0x1a1a00d908>"
      ]
     },
     "execution_count": 84,
     "metadata": {},
     "output_type": "execute_result"
    },
    {
     "data": {
      "image/png": "[encoded data removed]",
      "text/plain": [
       "<Figure size 432x288 with 1 Axes>"
      ]
     },
     "metadata": {
      "needs_background": "light"
     },
     "output_type": "display_data"
    }
   ],
   "source": [
    "lin_reg = LinearRegression()\n",
    "plot_learning_curves(lin_reg, X, y)\n",
    "plt.xlabel('Sample Size')\n",
    "plt.ylabel('RMSE')\n",
    "plt.legend()"
   ]
  },
  {
   "cell_type": "markdown",
   "metadata": {},
   "source": [
    "When there are just 1 or 2 instances in the training set, the model can fit the data perfectly; this is why the RMSE starts at zero. But as new instances are created, the model can not fit all data perfectly (errors when drawing line through 3 points). For the validation set, when the sample size in the training set is small, the model is incapable of generalizing to many instances. Recall that we are training a linear model on a quadratic curve; this is why the RMSE eventually plateaus to a relatively high value."
   ]
  },
  {
   "cell_type": "code",
   "execution_count": null,
   "metadata": {},
   "outputs": [],
   "source": []
  }
 ],
 "metadata": {
  "kernelspec": {
   "display_name": "Python 3",
   "language": "python",
   "name": "python3"
  },
  "language_info": {
   "codemirror_mode": {
    "name": "ipython",
    "version": 3
   },
   "file_extension": ".py",
   "mimetype": "text/x-python",
   "name": "python",
   "nbconvert_exporter": "python",
   "pygments_lexer": "ipython3",
   "version": "3.6.7"
  }
 },
 "nbformat": 4,
 "nbformat_minor": 4
}
