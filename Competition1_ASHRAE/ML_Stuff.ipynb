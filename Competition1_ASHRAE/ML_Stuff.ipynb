{
  "nbformat": 4,
  "nbformat_minor": 0,
  "metadata": {
    "kernelspec": {
      "name": "python3",
      "display_name": "Python 3"
    },
    "language_info": {
      "codemirror_mode": {
        "name": "ipython",
        "version": 3
      },
      "file_extension": ".py",
      "mimetype": "text/x-python",
      "name": "python",
      "nbconvert_exporter": "python",
      "pygments_lexer": "ipython3",
      "version": "3.6.9"
    },
    "colab": {
      "name": "ML_Stuff.ipynb",
      "provenance": [],
      "machine_shape": "hm"
    },
    "accelerator": "GPU"
  },
  "cells": [
    {
      "cell_type": "code",
      "metadata": {
        "id": "f7lbQoal_hmD",
        "colab_type": "code",
        "colab": {}
      },
      "source": [
        "import pandas as pd\n",
        "import numpy as np\n",
        "from hf import *\n",
        "import lightgbm as lgb\n",
        "import warnings\n",
        "\n",
        "from sklearn.model_selection import train_test_split\n",
        "from sklearn.model_selection import StratifiedShuffleSplit\n",
        "from sklearn.pipeline import Pipeline\n",
        "from sklearn.preprocessing import StandardScaler\n",
        "from sklearn.base import BaseEstimator, TransformerMixin, RegressorMixin, clone\n",
        "from sklearn import impute\n",
        "from sklearn.pipeline import FeatureUnion\n",
        "from sklearn.preprocessing import OneHotEncoder\n",
        "from sklearn.model_selection import cross_val_score\n",
        "from sklearn.metrics import mean_squared_log_error\n",
        "from sklearn.linear_model import LinearRegression"
      ],
      "execution_count": 0,
      "outputs": []
    },
    {
      "cell_type": "markdown",
      "metadata": {
        "id": "ZhNohJVn_hmI",
        "colab_type": "text"
      },
      "source": [
        "# Classes"
      ]
    },
    {
      "cell_type": "markdown",
      "metadata": {
        "id": "qpKDRrVx_hmJ",
        "colab_type": "text"
      },
      "source": [
        "This class is used to extract values from a DataFrame"
      ]
    },
    {
      "cell_type": "code",
      "metadata": {
        "id": "-5LyRxxy_hmK",
        "colab_type": "code",
        "colab": {}
      },
      "source": [
        "class DataFrameSelector(BaseEstimator, TransformerMixin):\n",
        "    def __init__(self, attribute_names):\n",
        "        self.attribute_names = attribute_names\n",
        "    def fit(self, X, y=None):\n",
        "        return self\n",
        "    def transform(self, X):\n",
        "        return X[self.attribute_names].values"
      ],
      "execution_count": 0,
      "outputs": []
    },
    {
      "cell_type": "markdown",
      "metadata": {
        "id": "M0pT5bA2_hmM",
        "colab_type": "text"
      },
      "source": [
        "This class is used to add attributes such as hour of day and day of week"
      ]
    },
    {
      "cell_type": "code",
      "metadata": {
        "id": "pdflGnoi_hmM",
        "colab_type": "code",
        "colab": {}
      },
      "source": [
        "class CombinedAttributesAdder(BaseEstimator, TransformerMixin):\n",
        "    def __init__(self, add_hourday = True):\n",
        "        self.add_hourday = add_hourday\n",
        "    def fit(self, X, y=None):\n",
        "        return self\n",
        "    def transform(self, X, y=None):\n",
        "        if self.add_hourday:\n",
        "            return X.assign(tm_day_of_week=((X.timestamp // 24) % 7), tm_hour_of_day=(X.timestamp % 24))\n",
        "        else:\n",
        "            return X"
      ],
      "execution_count": 0,
      "outputs": []
    },
    {
      "cell_type": "markdown",
      "metadata": {
        "id": "UFWPxKCC_hmO",
        "colab_type": "text"
      },
      "source": [
        "This class is used to fit a seperate model on each of the four meter types. Note that any model can be used "
      ]
    },
    {
      "cell_type": "code",
      "metadata": {
        "id": "OreFme3W_hmP",
        "colab_type": "code",
        "colab": {}
      },
      "source": [
        "class CatSplitRegressor(BaseEstimator, RegressorMixin):\n",
        "    def __init__(self, model, col):\n",
        "        self.model = model\n",
        "        self.col = col\n",
        "\n",
        "    def fit(self, X, y):\n",
        "        self.fitted = {}\n",
        "        importances = []\n",
        "        for val in X[self.col].unique():\n",
        "            X1 = X[X[self.col] == val].drop(columns=[self.col])\n",
        "            self.fitted[val] = clone(self.model).fit(X1, y.reindex_like(X1))\n",
        "            importances.append(self.fitted[val].feature_importances_)\n",
        "            del X1\n",
        "        fi = np.average(importances, axis=0)\n",
        "        col_index = list(X.columns).index(self.col)\n",
        "        self.feature_importances_ = [*fi[:col_index], 0, *fi[col_index:]]\n",
        "        return self\n",
        "    \n",
        "    def transform(self, X):\n",
        "        return X\n",
        "\n",
        "    def predict(self, X):\n",
        "        result = np.zeros(len(X))\n",
        "        for val in X[self.col].unique():\n",
        "            ix = np.nonzero((X[self.col] == val).to_numpy())\n",
        "            predictions = self.fitted[val].predict(X.iloc[ix].drop(columns=[self.col]))\n",
        "            result[ix] = predictions\n",
        "        return result"
      ],
      "execution_count": 0,
      "outputs": []
    },
    {
      "cell_type": "markdown",
      "metadata": {
        "id": "B1x12xJM_hmR",
        "colab_type": "text"
      },
      "source": [
        "This class is used to wrap the LGBM model (a model seperate from sci-kit learn's models)"
      ]
    },
    {
      "cell_type": "code",
      "metadata": {
        "id": "xGW4c-Xp_hmS",
        "colab_type": "code",
        "colab": {}
      },
      "source": [
        "categorical_columns = [\n",
        "    \"building_id\", \"meter\", \"site_id\", \"primary_use\", \"had_air_temperature\", \"had_cloud_coverage\",\n",
        "    \"had_dew_temperature\", \"had_precip_depth_1_hr\", \"had_sea_level_pressure\", \"had_wind_direction\",\n",
        "    \"had_wind_speed\", \"tm_day_of_week\", \"tm_hour_of_day\"\n",
        "]\n",
        "\n",
        "\n",
        "class LGBMWrapper(BaseEstimator, RegressorMixin):\n",
        "    def __init__(self, categorical_feature=None, **params):\n",
        "        self.model = lgb.LGBMRegressor(**params)\n",
        "        self.categorical_feature = categorical_feature\n",
        "\n",
        "    def fit(self, X, y):\n",
        "        with warnings.catch_warnings():\n",
        "            cats = None if self.categorical_feature is None else list(\n",
        "                X.columns.intersection(self.categorical_feature))\n",
        "            warnings.filterwarnings(\"ignore\",\n",
        "                                    \"categorical_feature in Dataset is overridden\".lower())\n",
        "            self.model.fit(X, y, **({} if cats is None else {\"categorical_feature\": cats}))\n",
        "            self.feature_importances_ = self.model.feature_importances_\n",
        "            return self\n",
        "        \n",
        "    def transform(self, X):\n",
        "        return X\n",
        "\n",
        "    def predict(self, X):\n",
        "        return self.model.predict(X)\n",
        "\n",
        "    def get_params(self, deep=True):\n",
        "        return {**self.model.get_params(deep), \"categorical_feature\": self.categorical_feature}\n",
        "\n",
        "    def set_params(self, **params):\n",
        "        ctf = params.pop(\"categorical_feature\", None)\n",
        "        if ctf is not None: self.categorical_feature = ctf\n",
        "        self.model.set_params(params)"
      ],
      "execution_count": 0,
      "outputs": []
    },
    {
      "cell_type": "markdown",
      "metadata": {
        "id": "PL-ptQSq_hmU",
        "colab_type": "text"
      },
      "source": [
        "# Pipelines"
      ]
    },
    {
      "cell_type": "code",
      "metadata": {
        "id": "zhK8bXEs_hmU",
        "colab_type": "code",
        "colab": {}
      },
      "source": [
        "num_attribs = ['building_id', 'meter', 'site_id',\n",
        "       'square_feet', \n",
        "       'air_temperature', 'cloud_coverage', 'dew_temperature',\n",
        "       'precip_depth_1_hr', 'sea_level_pressure', 'wind_direction',\n",
        "       'wind_speed',]\n",
        "cat_attribs = ['primary_use',  'had_air_temperature', 'had_cloud_coverage',\n",
        "       'had_dew_temperature', 'had_precip_depth_1_hr',\n",
        "       'had_sea_level_pressure', 'had_wind_direction', 'had_wind_speed']\n",
        "    \n",
        "num_pipeline = Pipeline([\n",
        "    ('selector', DataFrameSelector(num_attribs)),\n",
        "    ('imputer', impute.SimpleImputer(strategy=\"median\")),\n",
        "    ('std_scaler', StandardScaler())\n",
        "])\n",
        "\n",
        "cat_pipeline = Pipeline([\n",
        "    ('selector', DataFrameSelector(cat_attribs)),\n",
        "    ('cat_encoder', OneHotEncoder())\n",
        "])\n",
        "\n",
        "numandcat_pipeline = FeatureUnion(transformer_list =[\n",
        "    (\"num_pipeline\", num_pipeline),\n",
        "    (\"cat_pipeline\", cat_pipeline),\n",
        "])\n",
        "\n",
        "\n",
        "## The Classifers\n",
        "## 1. Linear Regression\n",
        "lin_reg_clf = Pipeline([\n",
        "    ('formatter', numandcat_pipeline),\n",
        "    ('model', LinearRegression())\n",
        "])\n",
        "\n",
        "## 2. LGBM\n",
        "lgbm_reg_clf = CatSplitRegressor(LGBMWrapper(categorical_feature = categorical_columns), \"had_air_temperature\")\n"
      ],
      "execution_count": 0,
      "outputs": []
    },
    {
      "cell_type": "markdown",
      "metadata": {
        "id": "CjwgGD1s_hmW",
        "colab_type": "text"
      },
      "source": [
        "# Train Model"
      ]
    },
    {
      "cell_type": "markdown",
      "metadata": {
        "id": "JlLN-mga_hmX",
        "colab_type": "text"
      },
      "source": [
        "## Open Data, Get Train/Test Sets"
      ]
    },
    {
      "cell_type": "code",
      "metadata": {
        "id": "goGQ_qfO_hmY",
        "colab_type": "code",
        "colab": {}
      },
      "source": [
        "c =CombinedAttributesAdder()"
      ],
      "execution_count": 0,
      "outputs": []
    },
    {
      "cell_type": "code",
      "metadata": {
        "id": "P65tNssi_hmZ",
        "colab_type": "code",
        "colab": {}
      },
      "source": [
        "df = pd.read_pickle(r'/content/drive/My Drive/ML_Data/PROCESSED_TRAIN_DF.pkl')\n",
        "# df = df[df['meter']==0] # Remove Later\n",
        "df = c.transform(df)\n",
        "\n",
        "split = StratifiedShuffleSplit(n_splits=1, test_size=0.2, random_state=42)\n",
        "for train_index, test_index in split.split(df, df['building_id']):\n",
        "    strat_train_set = df.iloc[train_index]\n",
        "    strat_test_set= df.iloc[test_index]"
      ],
      "execution_count": 0,
      "outputs": []
    },
    {
      "cell_type": "code",
      "metadata": {
        "id": "0RjGNuIK_hmd",
        "colab_type": "code",
        "colab": {}
      },
      "source": [
        "X_train = strat_train_set.drop(['meter_reading', 'timestamp'], axis='columns')\n",
        "y_train = strat_train_set['meter_reading'].apply(np.log1p) # use logarithm bc of cost function at the end\n",
        "\n",
        "X_test = strat_test_set.drop(['meter_reading', 'timestamp'], axis='columns')\n",
        "y_test = strat_test_set['meter_reading'].apply(np.log1p) # use logarithm bc of cost function at the end"
      ],
      "execution_count": 0,
      "outputs": []
    },
    {
      "cell_type": "markdown",
      "metadata": {
        "id": "lKhN6uvB_hme",
        "colab_type": "text"
      },
      "source": [
        "## Train Linear Regression and LGBM Model"
      ]
    },
    {
      "cell_type": "markdown",
      "metadata": {
        "id": "D-fXBHBe_hmh",
        "colab_type": "text"
      },
      "source": [
        "Fit linear model"
      ]
    },
    {
      "cell_type": "code",
      "metadata": {
        "id": "h9cWQejN_hmh",
        "colab_type": "code",
        "colab": {
          "base_uri": "https://localhost:8080/",
          "height": 695
        },
        "outputId": "24123136-f3fd-4320-d6a9-a6dfe691a094"
      },
      "source": [
        "lin_reg_clf.fit(X_train, y_train)"
      ],
      "execution_count": 10,
      "outputs": [
        {
          "output_type": "stream",
          "text": [
            "/usr/local/lib/python3.6/dist-packages/sklearn/preprocessing/_encoders.py:415: FutureWarning: The handling of integer data will change in version 0.22. Currently, the categories are determined based on the range [0, max(values)], while in the future they will be determined based on the unique values.\n",
            "If you want the future behaviour and silence this warning, you can specify \"categories='auto'\".\n",
            "In case you used a LabelEncoder before this OneHotEncoder to convert the categories to integers, then you can now use the OneHotEncoder directly.\n",
            "  warnings.warn(msg, FutureWarning)\n"
          ],
          "name": "stderr"
        },
        {
          "output_type": "execute_result",
          "data": {
            "text/plain": [
              "Pipeline(memory=None,\n",
              "         steps=[('formatter',\n",
              "                 FeatureUnion(n_jobs=None,\n",
              "                              transformer_list=[('num_pipeline',\n",
              "                                                 Pipeline(memory=None,\n",
              "                                                          steps=[('selector',\n",
              "                                                                  DataFrameSelector(attribute_names=['building_id',\n",
              "                                                                                                     'meter',\n",
              "                                                                                                     'site_id',\n",
              "                                                                                                     'square_feet',\n",
              "                                                                                                     'air_temperature',\n",
              "                                                                                                     'cloud_coverage',\n",
              "                                                                                                     'dew_temperature',\n",
              "                                                                                                     'precip_depth_1_hr',\n",
              "                                                                                                     'sea_level_pressure',\n",
              "                                                                                                     'wind_direction',\n",
              "                                                                                                     'wind_speed'])),\n",
              "                                                                 ('...\n",
              "                                                                                                     'had_wind_direction',\n",
              "                                                                                                     'had_wind_speed'])),\n",
              "                                                                 ('cat_encoder',\n",
              "                                                                  OneHotEncoder(categorical_features=None,\n",
              "                                                                                categories=None,\n",
              "                                                                                drop=None,\n",
              "                                                                                dtype=<class 'numpy.float64'>,\n",
              "                                                                                handle_unknown='error',\n",
              "                                                                                n_values=None,\n",
              "                                                                                sparse=True))],\n",
              "                                                          verbose=False))],\n",
              "                              transformer_weights=None, verbose=False)),\n",
              "                ('model',\n",
              "                 LinearRegression(copy_X=True, fit_intercept=True, n_jobs=None,\n",
              "                                  normalize=False))],\n",
              "         verbose=False)"
            ]
          },
          "metadata": {
            "tags": []
          },
          "execution_count": 10
        }
      ]
    },
    {
      "cell_type": "markdown",
      "metadata": {
        "id": "RulBpcOf_hmk",
        "colab_type": "text"
      },
      "source": [
        "Fit LGBM model (note that this class takes in a DataFrame)"
      ]
    },
    {
      "cell_type": "code",
      "metadata": {
        "id": "aGbbboyw_hml",
        "colab_type": "code",
        "colab": {
          "base_uri": "https://localhost:8080/",
          "height": 415
        },
        "outputId": "79154954-9d02-4e10-e61f-7c66baec7f8c"
      },
      "source": [
        "lgbm_reg_clf.fit(X_train, y_train)"
      ],
      "execution_count": 11,
      "outputs": [
        {
          "output_type": "execute_result",
          "data": {
            "text/plain": [
              "CatSplitRegressor(col='had_air_temperature',\n",
              "                  model=LGBMWrapper(boosting_type='gbdt',\n",
              "                                    categorical_feature=['building_id', 'meter',\n",
              "                                                         'site_id',\n",
              "                                                         'primary_use',\n",
              "                                                         'had_air_temperature',\n",
              "                                                         'had_cloud_coverage',\n",
              "                                                         'had_dew_temperature',\n",
              "                                                         'had_precip_depth_1_hr',\n",
              "                                                         'had_sea_level_pressure',\n",
              "                                                         'had_wind_direction',\n",
              "                                                         'had_wind_speed',\n",
              "                                                         'tm_day_of_week',\n",
              "                                                         'tm_hour_of_day'],\n",
              "                                    class_weight=None, colsample_bytree=1.0,\n",
              "                                    importance_type='split', learning_rate=0.1,\n",
              "                                    max_depth=-1, min_child_samples=20,\n",
              "                                    min_child_weight=0.001, min_split_gain=0.0,\n",
              "                                    n_estimators=100, n_jobs=-1, num_leaves=31,\n",
              "                                    objective=None, random_state=None,\n",
              "                                    reg_alpha=0.0, reg_lambda=0.0, silent=True,\n",
              "                                    subsample=1.0, subsample_for_bin=200000,\n",
              "                                    subsample_freq=0))"
            ]
          },
          "metadata": {
            "tags": []
          },
          "execution_count": 11
        }
      ]
    },
    {
      "cell_type": "markdown",
      "metadata": {
        "id": "Kl2X8uvl_hmm",
        "colab_type": "text"
      },
      "source": [
        "## Look at Predictions"
      ]
    },
    {
      "cell_type": "markdown",
      "metadata": {
        "id": "rDywDkqN_hmn",
        "colab_type": "text"
      },
      "source": [
        "### Linear"
      ]
    },
    {
      "cell_type": "markdown",
      "metadata": {
        "id": "pDaa_Ii7_hmo",
        "colab_type": "text"
      },
      "source": [
        "Get predictions"
      ]
    },
    {
      "cell_type": "code",
      "metadata": {
        "id": "2TsBn0sN_hmo",
        "colab_type": "code",
        "colab": {}
      },
      "source": [
        "y_pred = lin_reg_clf.predict(X_test)"
      ],
      "execution_count": 0,
      "outputs": []
    },
    {
      "cell_type": "markdown",
      "metadata": {
        "id": "58GsJ2GF_hmq",
        "colab_type": "text"
      },
      "source": [
        "Compute RMSLE"
      ]
    },
    {
      "cell_type": "code",
      "metadata": {
        "id": "C5xNmSqx_hmq",
        "colab_type": "code",
        "colab": {
          "base_uri": "https://localhost:8080/",
          "height": 34
        },
        "outputId": "60757414-e6fc-4532-88c4-2d9796c42eb3"
      },
      "source": [
        "sampled_y = np.expm1(y_test)\n",
        "sampled_prediction = np.expm1(y_pred)\n",
        "\n",
        "rmsle = np.sqrt(mean_squared_log_error(sampled_y, np.clip(sampled_prediction, 0, None)))\n",
        "print(rmsle)"
      ],
      "execution_count": 13,
      "outputs": [
        {
          "output_type": "stream",
          "text": [
            "1.9448020115794722\n"
          ],
          "name": "stdout"
        }
      ]
    },
    {
      "cell_type": "markdown",
      "metadata": {
        "id": "4Hismn3D_hms",
        "colab_type": "text"
      },
      "source": [
        "### LGBM"
      ]
    },
    {
      "cell_type": "markdown",
      "metadata": {
        "id": "NmWgonPo_hmt",
        "colab_type": "text"
      },
      "source": [
        "Get predictions"
      ]
    },
    {
      "cell_type": "code",
      "metadata": {
        "id": "egNzNilV_hmt",
        "colab_type": "code",
        "colab": {}
      },
      "source": [
        "y_pred = lgbm_reg_clf.predict(X_test)"
      ],
      "execution_count": 0,
      "outputs": []
    },
    {
      "cell_type": "markdown",
      "metadata": {
        "id": "aZYX2vbP_hmw",
        "colab_type": "text"
      },
      "source": [
        "Compute RMSLE"
      ]
    },
    {
      "cell_type": "code",
      "metadata": {
        "id": "P2xPEphP_hmx",
        "colab_type": "code",
        "colab": {
          "base_uri": "https://localhost:8080/",
          "height": 34
        },
        "outputId": "f4615f3c-cabf-4f90-b842-66be18912f67"
      },
      "source": [
        "sampled_y = np.expm1(y_test)\n",
        "sampled_prediction = np.expm1(y_pred)\n",
        "\n",
        "rmsle = np.sqrt(mean_squared_log_error(sampled_y, np.clip(sampled_prediction, 0, None)))\n",
        "print(rmsle)"
      ],
      "execution_count": 15,
      "outputs": [
        {
          "output_type": "stream",
          "text": [
            "1.0493924486129464\n"
          ],
          "name": "stdout"
        }
      ]
    },
    {
      "cell_type": "code",
      "metadata": {
        "id": "LNBO01kR_hm5",
        "colab_type": "code",
        "colab": {
          "base_uri": "https://localhost:8080/",
          "height": 99
        },
        "outputId": "386b0291-051b-49b7-eb4f-44588d633f84"
      },
      "source": [
        "importances = pd.Series(lgbm_reg_clf.feature_importances_, index=X_train.columns).rename(\"Importance\")\n",
        "display(importances.sort_values(ascending=False).to_frame().T)"
      ],
      "execution_count": 16,
      "outputs": [
        {
          "output_type": "display_data",
          "data": {
            "text/html": [
              "<div>\n",
              "<style scoped>\n",
              "    .dataframe tbody tr th:only-of-type {\n",
              "        vertical-align: middle;\n",
              "    }\n",
              "\n",
              "    .dataframe tbody tr th {\n",
              "        vertical-align: top;\n",
              "    }\n",
              "\n",
              "    .dataframe thead th {\n",
              "        text-align: right;\n",
              "    }\n",
              "</style>\n",
              "<table border=\"1\" class=\"dataframe\">\n",
              "  <thead>\n",
              "    <tr style=\"text-align: right;\">\n",
              "      <th></th>\n",
              "      <th>building_id</th>\n",
              "      <th>meter</th>\n",
              "      <th>air_temperature</th>\n",
              "      <th>square_feet</th>\n",
              "      <th>dew_temperature</th>\n",
              "      <th>site_id</th>\n",
              "      <th>tm_hour_of_day</th>\n",
              "      <th>sea_level_pressure</th>\n",
              "      <th>wind_direction</th>\n",
              "      <th>tm_day_of_week</th>\n",
              "      <th>cloud_coverage</th>\n",
              "      <th>wind_speed</th>\n",
              "      <th>year_built</th>\n",
              "      <th>floor_count</th>\n",
              "      <th>primary_use</th>\n",
              "      <th>precip_depth_1_hr</th>\n",
              "      <th>had_precip_depth_1_hr</th>\n",
              "      <th>had_wind_direction</th>\n",
              "      <th>had_sea_level_pressure</th>\n",
              "      <th>had_cloud_coverage</th>\n",
              "      <th>had_air_temperature</th>\n",
              "      <th>had_dew_temperature</th>\n",
              "      <th>had_wind_speed</th>\n",
              "    </tr>\n",
              "  </thead>\n",
              "  <tbody>\n",
              "    <tr>\n",
              "      <th>Importance</th>\n",
              "      <td>1383.0</td>\n",
              "      <td>460.0</td>\n",
              "      <td>227.0</td>\n",
              "      <td>173.0</td>\n",
              "      <td>157.5</td>\n",
              "      <td>116.5</td>\n",
              "      <td>91.5</td>\n",
              "      <td>79.5</td>\n",
              "      <td>69.0</td>\n",
              "      <td>45.5</td>\n",
              "      <td>43.5</td>\n",
              "      <td>41.5</td>\n",
              "      <td>34.5</td>\n",
              "      <td>26.5</td>\n",
              "      <td>20.5</td>\n",
              "      <td>15.5</td>\n",
              "      <td>8.0</td>\n",
              "      <td>7.0</td>\n",
              "      <td>0.5</td>\n",
              "      <td>0.0</td>\n",
              "      <td>0.0</td>\n",
              "      <td>0.0</td>\n",
              "      <td>0.0</td>\n",
              "    </tr>\n",
              "  </tbody>\n",
              "</table>\n",
              "</div>"
            ],
            "text/plain": [
              "            building_id  meter  ...  had_dew_temperature  had_wind_speed\n",
              "Importance       1383.0  460.0  ...                  0.0             0.0\n",
              "\n",
              "[1 rows x 23 columns]"
            ]
          },
          "metadata": {
            "tags": []
          }
        }
      ]
    },
    {
      "cell_type": "code",
      "metadata": {
        "id": "kv7CePNmLpRt",
        "colab_type": "code",
        "colab": {}
      },
      "source": [
        ""
      ],
      "execution_count": 0,
      "outputs": []
    }
  ]
}