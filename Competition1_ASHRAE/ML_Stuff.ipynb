{
 "cells": [
  {
   "cell_type": "code",
   "execution_count": 1,
   "metadata": {
    "colab": {},
    "colab_type": "code",
    "id": "f7lbQoal_hmD"
   },
   "outputs": [],
   "source": [
    "from LGBM_classes_methods import *"
   ]
  },
  {
   "cell_type": "markdown",
   "metadata": {},
   "source": [
    "All classes are imported from another file."
   ]
  },
  {
   "cell_type": "markdown",
   "metadata": {
    "colab_type": "text",
    "id": "PL-ptQSq_hmU"
   },
   "source": [
    "# Classifier"
   ]
  },
  {
   "cell_type": "code",
   "execution_count": 2,
   "metadata": {
    "colab": {},
    "colab_type": "code",
    "id": "zhK8bXEs_hmU"
   },
   "outputs": [],
   "source": [
    "lgbm_reg_clf = CatSplitRegressor(LGBMWrapper(categorical_feature = categorical_columns), \"had_air_temperature\")"
   ]
  },
  {
   "cell_type": "markdown",
   "metadata": {
    "colab_type": "text",
    "id": "CjwgGD1s_hmW"
   },
   "source": [
    "# Train Model"
   ]
  },
  {
   "cell_type": "markdown",
   "metadata": {
    "colab_type": "text",
    "id": "JlLN-mga_hmX"
   },
   "source": [
    "## Open Data, Get Train/Test Sets"
   ]
  },
  {
   "cell_type": "code",
   "execution_count": 3,
   "metadata": {
    "colab": {},
    "colab_type": "code",
    "id": "goGQ_qfO_hmY"
   },
   "outputs": [],
   "source": [
    "c =CombinedAttributesAdder()"
   ]
  },
  {
   "cell_type": "code",
   "execution_count": 4,
   "metadata": {
    "colab": {},
    "colab_type": "code",
    "id": "P65tNssi_hmZ"
   },
   "outputs": [],
   "source": [
    "df = pd.read_pickle(r'C:\\Users\\lukep\\Documents\\big_data\\ASHRAE\\PROCESSED_TRAIN_DF.pkl')\n",
    "# df = df[df['meter']==0] # Remove Later\n",
    "df = c.transform(df)\n",
    "\n",
    "split = StratifiedShuffleSplit(n_splits=1, test_size=0.2, random_state=42)\n",
    "for train_index, test_index in split.split(df, df['building_id']):\n",
    "    strat_train_set = df.iloc[train_index]\n",
    "    strat_test_set= df.iloc[test_index]"
   ]
  },
  {
   "cell_type": "code",
   "execution_count": 5,
   "metadata": {
    "colab": {},
    "colab_type": "code",
    "id": "0RjGNuIK_hmd"
   },
   "outputs": [],
   "source": [
    "X_train = strat_train_set.drop(['meter_reading'], axis='columns')\n",
    "y_train = strat_train_set['meter_reading'].apply(np.log1p) # use logarithm bc of cost function at the end\n",
    "\n",
    "X_test = strat_test_set.drop(['meter_reading'], axis='columns')\n",
    "y_test = strat_test_set['meter_reading'].apply(np.log1p) # use logarithm bc of cost function at the end"
   ]
  },
  {
   "cell_type": "code",
   "execution_count": 6,
   "metadata": {},
   "outputs": [
    {
     "data": {
      "text/plain": [
       "Index(['building_id', 'meter', 'timestamp', 'site_id', 'primary_use',\n",
       "       'square_feet', 'year_built', 'floor_count', 'surf_area',\n",
       "       'air_temperature', 'cloud_coverage', 'dew_temperature',\n",
       "       'precip_depth_1_hr', 'sea_level_pressure', 'wind_direction',\n",
       "       'wind_speed', 'had_air_temperature', 'had_cloud_coverage',\n",
       "       'had_dew_temperature', 'had_precip_depth_1_hr',\n",
       "       'had_sea_level_pressure', 'had_wind_direction', 'had_wind_speed',\n",
       "       'tm_day_of_week', 'tm_hour_of_day'],\n",
       "      dtype='object')"
      ]
     },
     "execution_count": 6,
     "metadata": {},
     "output_type": "execute_result"
    }
   ],
   "source": [
    "X_train.columns"
   ]
  },
  {
   "cell_type": "markdown",
   "metadata": {},
   "source": [
    "Convert y_train and y_test to log space as this helps minimize error"
   ]
  },
  {
   "cell_type": "markdown",
   "metadata": {
    "colab_type": "text",
    "id": "lKhN6uvB_hme"
   },
   "source": [
    "## Train Linear Regression and LGBM Model"
   ]
  },
  {
   "cell_type": "markdown",
   "metadata": {
    "colab_type": "text",
    "id": "RulBpcOf_hmk"
   },
   "source": [
    "Fit LGBM model (note that this class takes in a DataFrame)"
   ]
  },
  {
   "cell_type": "code",
   "execution_count": 7,
   "metadata": {},
   "outputs": [],
   "source": [
    "def np_sample(a, frac):\n",
    "    return a if frac == 1 else np.random.choice(a, int(len(a) * frac), replace=False)\n",
    "\n",
    "def make_8121_splits(X, sample_frac):\n",
    "    np.random.seed(0)\n",
    "    time_sorted_idx = np.argsort(X.timestamp.values, kind='stable')\n",
    "    sections = np.array_split(time_sorted_idx, 12)\n",
    "    folds = []\n",
    "    for start_ix in range(0, 12, 2):\n",
    "        val_idxs = np.concatenate(sections[start_ix:start_ix + 2])  # no modulo necessary\n",
    "        train_idxs = np.concatenate(\n",
    "            [sections[ix % 12] for ix in range(start_ix + 3, start_ix + 11)])\n",
    "        folds.append((np_sample(train_idxs, sample_frac), np_sample(val_idxs, sample_frac)))\n",
    "    return folds\n",
    "\n",
    "def make_cv_predictions(model, split, X, y):\n",
    "    preds = []\n",
    "    for ix, (train_fold, val_fold) in enumerate(split):\n",
    "        # Train\n",
    "        Xt = X.iloc[train_fold]\n",
    "        yt = y.reindex_like(Xt)\n",
    "        # Validation\n",
    "        Xv = X.iloc[val_fold]\n",
    "        yv = y.reindex_like(Xv)\n",
    "        # Fit Train\n",
    "        model.fit(Xt, yt)\n",
    "        # Make Predictions\n",
    "        preds.append(pd.DataFrame(dict(target=yv, prediction=model.predict(Xv)), index=yv.index))\n",
    "    result = pd.concat(preds).sort_index()\n",
    "    return result.target, result.prediction"
   ]
  },
  {
   "cell_type": "markdown",
   "metadata": {},
   "source": [
    "Create model."
   ]
  },
  {
   "cell_type": "code",
   "execution_count": 8,
   "metadata": {},
   "outputs": [],
   "source": [
    "model = CatSplitRegressor(LGBMWrapper(categorical_feature = categorical_columns), \"had_air_temperature\")"
   ]
  },
  {
   "cell_type": "markdown",
   "metadata": {},
   "source": [
    "Split training set by time stamp. drop timestamps, then make cross val precitions."
   ]
  },
  {
   "cell_type": "code",
   "execution_count": 9,
   "metadata": {},
   "outputs": [],
   "source": [
    "splits = make_8121_splits(X_train, 0.2)\n",
    "X_train = X_train.drop(columns=\"timestamp\")  # Raw timestamp doesn't carry over to test data\n",
    "sampled_y, sampled_prediction = make_cv_predictions(model, splits, X_train, y_train)"
   ]
  },
  {
   "cell_type": "markdown",
   "metadata": {
    "colab_type": "text",
    "id": "Kl2X8uvl_hmm"
   },
   "source": [
    "## Look at Predictions"
   ]
  },
  {
   "cell_type": "code",
   "execution_count": 10,
   "metadata": {
    "colab": {
     "base_uri": "https://localhost:8080/",
     "height": 34
    },
    "colab_type": "code",
    "id": "P2xPEphP_hmx",
    "outputId": "f4615f3c-cabf-4f90-b842-66be18912f67"
   },
   "outputs": [
    {
     "name": "stdout",
     "output_type": "stream",
     "text": [
      "1.3372759206617992\n"
     ]
    }
   ],
   "source": [
    "sampled_y = np.expm1(sampled_y)\n",
    "sampled_prediction = np.expm1(sampled_prediction)\n",
    "rmsle = np.sqrt(mean_squared_log_error(sampled_y, np.clip(sampled_prediction, 0, None)))\n",
    "print(rmsle)"
   ]
  },
  {
   "cell_type": "code",
   "execution_count": 11,
   "metadata": {
    "colab": {
     "base_uri": "https://localhost:8080/",
     "height": 99
    },
    "colab_type": "code",
    "id": "LNBO01kR_hm5",
    "outputId": "386b0291-051b-49b7-eb4f-44588d633f84"
   },
   "outputs": [
    {
     "data": {
      "text/html": [
       "<div>\n",
       "<style scoped>\n",
       "    .dataframe tbody tr th:only-of-type {\n",
       "        vertical-align: middle;\n",
       "    }\n",
       "\n",
       "    .dataframe tbody tr th {\n",
       "        vertical-align: top;\n",
       "    }\n",
       "\n",
       "    .dataframe thead th {\n",
       "        text-align: right;\n",
       "    }\n",
       "</style>\n",
       "<table border=\"1\" class=\"dataframe\">\n",
       "  <thead>\n",
       "    <tr style=\"text-align: right;\">\n",
       "      <th></th>\n",
       "      <th>building_id</th>\n",
       "      <th>meter</th>\n",
       "      <th>air_temperature</th>\n",
       "      <th>square_feet</th>\n",
       "      <th>dew_temperature</th>\n",
       "      <th>tm_hour_of_day</th>\n",
       "      <th>site_id</th>\n",
       "      <th>year_built</th>\n",
       "      <th>sea_level_pressure</th>\n",
       "      <th>wind_direction</th>\n",
       "      <th>...</th>\n",
       "      <th>floor_count</th>\n",
       "      <th>surf_area</th>\n",
       "      <th>tm_day_of_week</th>\n",
       "      <th>had_precip_depth_1_hr</th>\n",
       "      <th>had_wind_direction</th>\n",
       "      <th>had_wind_speed</th>\n",
       "      <th>had_dew_temperature</th>\n",
       "      <th>had_cloud_coverage</th>\n",
       "      <th>had_air_temperature</th>\n",
       "      <th>had_sea_level_pressure</th>\n",
       "    </tr>\n",
       "  </thead>\n",
       "  <tbody>\n",
       "    <tr>\n",
       "      <td>Importance</td>\n",
       "      <td>1217.0</td>\n",
       "      <td>437.0</td>\n",
       "      <td>250.5</td>\n",
       "      <td>236.5</td>\n",
       "      <td>185.0</td>\n",
       "      <td>125.5</td>\n",
       "      <td>91.0</td>\n",
       "      <td>72.0</td>\n",
       "      <td>64.0</td>\n",
       "      <td>61.0</td>\n",
       "      <td>...</td>\n",
       "      <td>35.5</td>\n",
       "      <td>34.0</td>\n",
       "      <td>25.0</td>\n",
       "      <td>2.0</td>\n",
       "      <td>1.0</td>\n",
       "      <td>0.0</td>\n",
       "      <td>0.0</td>\n",
       "      <td>0.0</td>\n",
       "      <td>0.0</td>\n",
       "      <td>0.0</td>\n",
       "    </tr>\n",
       "  </tbody>\n",
       "</table>\n",
       "<p>1 rows × 24 columns</p>\n",
       "</div>"
      ],
      "text/plain": [
       "            building_id  meter  air_temperature  square_feet  dew_temperature  \\\n",
       "Importance       1217.0  437.0            250.5        236.5            185.0   \n",
       "\n",
       "            tm_hour_of_day  site_id  year_built  sea_level_pressure  \\\n",
       "Importance           125.5     91.0        72.0                64.0   \n",
       "\n",
       "            wind_direction  ...  floor_count  surf_area  tm_day_of_week  \\\n",
       "Importance            61.0  ...         35.5       34.0            25.0   \n",
       "\n",
       "            had_precip_depth_1_hr  had_wind_direction  had_wind_speed  \\\n",
       "Importance                    2.0                 1.0             0.0   \n",
       "\n",
       "            had_dew_temperature  had_cloud_coverage  had_air_temperature  \\\n",
       "Importance                  0.0                 0.0                  0.0   \n",
       "\n",
       "            had_sea_level_pressure  \n",
       "Importance                     0.0  \n",
       "\n",
       "[1 rows x 24 columns]"
      ]
     },
     "metadata": {},
     "output_type": "display_data"
    }
   ],
   "source": [
    "importances = pd.Series(model.feature_importances_, index=X_train.columns).rename(\"Importance\")\n",
    "display(importances.sort_values(ascending=False).to_frame().T)"
   ]
  },
  {
   "cell_type": "code",
   "execution_count": 12,
   "metadata": {},
   "outputs": [
    {
     "data": {
      "text/plain": [
       "building_id               1217.0\n",
       "meter                      437.0\n",
       "site_id                     91.0\n",
       "primary_use                 37.0\n",
       "square_feet                236.5\n",
       "year_built                  72.0\n",
       "floor_count                 35.5\n",
       "surf_area                   34.0\n",
       "air_temperature            250.5\n",
       "cloud_coverage              38.0\n",
       "dew_temperature            185.0\n",
       "precip_depth_1_hr           50.0\n",
       "sea_level_pressure          64.0\n",
       "wind_direction              61.0\n",
       "wind_speed                  38.0\n",
       "had_air_temperature          0.0\n",
       "had_cloud_coverage           0.0\n",
       "had_dew_temperature          0.0\n",
       "had_precip_depth_1_hr        2.0\n",
       "had_sea_level_pressure       0.0\n",
       "had_wind_direction           1.0\n",
       "had_wind_speed               0.0\n",
       "tm_day_of_week              25.0\n",
       "tm_hour_of_day             125.5\n",
       "Name: Importance, dtype: float64"
      ]
     },
     "execution_count": 12,
     "metadata": {},
     "output_type": "execute_result"
    }
   ],
   "source": [
    "importances"
   ]
  },
  {
   "cell_type": "markdown",
   "metadata": {},
   "source": [
    "# Save Model"
   ]
  },
  {
   "cell_type": "code",
   "execution_count": 13,
   "metadata": {},
   "outputs": [],
   "source": [
    "pkl_filename = \"lgbm_model.pkl\"\n",
    "with open(pkl_filename, 'wb') as file:\n",
    "    pickle.dump(lgbm_reg_clf, file)"
   ]
  },
  {
   "cell_type": "code",
   "execution_count": 14,
   "metadata": {},
   "outputs": [
    {
     "data": {
      "text/plain": [
       "0            77.219372\n",
       "2             9.460569\n",
       "5            11.210402\n",
       "17           34.775734\n",
       "18          358.453320\n",
       "               ...    \n",
       "20216078     46.297244\n",
       "20216080     75.458812\n",
       "20216085    575.919918\n",
       "20216088    862.679601\n",
       "20216098    258.818447\n",
       "Name: prediction, Length: 3234576, dtype: float64"
      ]
     },
     "execution_count": 14,
     "metadata": {},
     "output_type": "execute_result"
    }
   ],
   "source": [
    "np.clip(sampled_prediction, 0, None)"
   ]
  },
  {
   "cell_type": "code",
   "execution_count": 15,
   "metadata": {},
   "outputs": [
    {
     "ename": "ValueError",
     "evalue": "Mean Squared Logarithmic Error cannot be used when targets contain negative values.",
     "output_type": "error",
     "traceback": [
      "\u001b[1;31m---------------------------------------------------------------------------\u001b[0m",
      "\u001b[1;31mValueError\u001b[0m                                Traceback (most recent call last)",
      "\u001b[1;32m<ipython-input-15-ae9c075f3e29>\u001b[0m in \u001b[0;36m<module>\u001b[1;34m\u001b[0m\n\u001b[1;32m----> 1\u001b[1;33m \u001b[0mnp\u001b[0m\u001b[1;33m.\u001b[0m\u001b[0msqrt\u001b[0m\u001b[1;33m(\u001b[0m\u001b[0mmean_squared_log_error\u001b[0m\u001b[1;33m(\u001b[0m\u001b[0msampled_y\u001b[0m\u001b[1;33m,\u001b[0m \u001b[0msampled_prediction\u001b[0m\u001b[1;33m)\u001b[0m\u001b[1;33m)\u001b[0m\u001b[1;33m\u001b[0m\u001b[1;33m\u001b[0m\u001b[0m\n\u001b[0m",
      "\u001b[1;32m~\\AppData\\Local\\Continuum\\anaconda3\\lib\\site-packages\\sklearn\\metrics\\regression.py\u001b[0m in \u001b[0;36mmean_squared_log_error\u001b[1;34m(y_true, y_pred, sample_weight, multioutput)\u001b[0m\n\u001b[0;32m    314\u001b[0m \u001b[1;33m\u001b[0m\u001b[0m\n\u001b[0;32m    315\u001b[0m     \u001b[1;32mif\u001b[0m \u001b[1;33m(\u001b[0m\u001b[0my_true\u001b[0m \u001b[1;33m<\u001b[0m \u001b[1;36m0\u001b[0m\u001b[1;33m)\u001b[0m\u001b[1;33m.\u001b[0m\u001b[0many\u001b[0m\u001b[1;33m(\u001b[0m\u001b[1;33m)\u001b[0m \u001b[1;32mor\u001b[0m \u001b[1;33m(\u001b[0m\u001b[0my_pred\u001b[0m \u001b[1;33m<\u001b[0m \u001b[1;36m0\u001b[0m\u001b[1;33m)\u001b[0m\u001b[1;33m.\u001b[0m\u001b[0many\u001b[0m\u001b[1;33m(\u001b[0m\u001b[1;33m)\u001b[0m\u001b[1;33m:\u001b[0m\u001b[1;33m\u001b[0m\u001b[1;33m\u001b[0m\u001b[0m\n\u001b[1;32m--> 316\u001b[1;33m         raise ValueError(\"Mean Squared Logarithmic Error cannot be used when \"\n\u001b[0m\u001b[0;32m    317\u001b[0m                          \"targets contain negative values.\")\n\u001b[0;32m    318\u001b[0m \u001b[1;33m\u001b[0m\u001b[0m\n",
      "\u001b[1;31mValueError\u001b[0m: Mean Squared Logarithmic Error cannot be used when targets contain negative values."
     ]
    }
   ],
   "source": [
    "np.sqrt(mean_squared_log_error(sampled_y, sampled_prediction))"
   ]
  },
  {
   "cell_type": "code",
   "execution_count": null,
   "metadata": {},
   "outputs": [],
   "source": [
    "X_train.head()['site_id']"
   ]
  },
  {
   "cell_type": "code",
   "execution_count": null,
   "metadata": {},
   "outputs": [],
   "source": []
  }
 ],
 "metadata": {
  "accelerator": "GPU",
  "colab": {
   "machine_shape": "hm",
   "name": "ML_Stuff.ipynb",
   "provenance": []
  },
  "kernelspec": {
   "display_name": "Python 3",
   "language": "python",
   "name": "python3"
  },
  "language_info": {
   "codemirror_mode": {
    "name": "ipython",
    "version": 3
   },
   "file_extension": ".py",
   "mimetype": "text/x-python",
   "name": "python",
   "nbconvert_exporter": "python",
   "pygments_lexer": "ipython3",
   "version": "3.6.9"
  }
 },
 "nbformat": 4,
 "nbformat_minor": 1
}
