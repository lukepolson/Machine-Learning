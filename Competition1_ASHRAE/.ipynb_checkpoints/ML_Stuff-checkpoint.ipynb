{
 "cells": [
  {
   "cell_type": "code",
   "execution_count": 1,
   "metadata": {
    "colab": {},
    "colab_type": "code",
    "id": "f7lbQoal_hmD"
   },
   "outputs": [],
   "source": [
    "from LGBM_classes_methods import *"
   ]
  },
  {
   "cell_type": "markdown",
   "metadata": {},
   "source": [
    "All classes are imported from another file."
   ]
  },
  {
   "cell_type": "markdown",
   "metadata": {
    "colab_type": "text",
    "id": "PL-ptQSq_hmU"
   },
   "source": [
    "# Classifier"
   ]
  },
  {
   "cell_type": "code",
   "execution_count": 2,
   "metadata": {
    "colab": {},
    "colab_type": "code",
    "id": "zhK8bXEs_hmU"
   },
   "outputs": [],
   "source": [
    "lgbm_reg_clf = CatSplitRegressor(LGBMWrapper(categorical_feature = categorical_columns), \"had_air_temperature\")"
   ]
  },
  {
   "cell_type": "markdown",
   "metadata": {
    "colab_type": "text",
    "id": "CjwgGD1s_hmW"
   },
   "source": [
    "# Train Model"
   ]
  },
  {
   "cell_type": "markdown",
   "metadata": {
    "colab_type": "text",
    "id": "JlLN-mga_hmX"
   },
   "source": [
    "## Open Data, Get Train/Test Sets"
   ]
  },
  {
   "cell_type": "code",
   "execution_count": 3,
   "metadata": {
    "colab": {},
    "colab_type": "code",
    "id": "goGQ_qfO_hmY"
   },
   "outputs": [],
   "source": [
    "c =CombinedAttributesAdder()"
   ]
  },
  {
   "cell_type": "code",
   "execution_count": 4,
   "metadata": {
    "colab": {},
    "colab_type": "code",
    "id": "P65tNssi_hmZ"
   },
   "outputs": [],
   "source": [
    "df = pd.read_pickle(r'C:\\Users\\lukep\\Documents\\big_data\\ASHRAE\\PROCESSED_TRAIN_DF.pkl')\n",
    "# df = df[df['meter']==0] # Remove Later\n",
    "df = c.transform(df)\n",
    "\n",
    "split = StratifiedShuffleSplit(n_splits=1, test_size=0.2, random_state=42)\n",
    "for train_index, test_index in split.split(df, df['building_id']):\n",
    "    strat_train_set = df.iloc[train_index]\n",
    "    strat_test_set= df.iloc[test_index]"
   ]
  },
  {
   "cell_type": "code",
   "execution_count": 5,
   "metadata": {
    "colab": {},
    "colab_type": "code",
    "id": "0RjGNuIK_hmd"
   },
   "outputs": [],
   "source": [
    "X_train = strat_train_set.drop(['meter_reading'], axis='columns')\n",
    "y_train = strat_train_set['meter_reading'].apply(np.log1p) # use logarithm bc of cost function at the end\n",
    "\n",
    "X_test = strat_test_set.drop(['meter_reading'], axis='columns')\n",
    "y_test = strat_test_set['meter_reading'].apply(np.log1p) # use logarithm bc of cost function at the end"
   ]
  },
  {
   "cell_type": "code",
   "execution_count": 6,
   "metadata": {},
   "outputs": [
    {
     "data": {
      "text/plain": [
       "Index(['building_id', 'meter', 'timestamp', 'site_id', 'primary_use',\n",
       "       'square_feet', 'year_built', 'floor_count', 'air_temperature',\n",
       "       'cloud_coverage', 'dew_temperature', 'precip_depth_1_hr',\n",
       "       'sea_level_pressure', 'wind_direction', 'wind_speed',\n",
       "       'had_air_temperature', 'had_cloud_coverage', 'had_dew_temperature',\n",
       "       'had_precip_depth_1_hr', 'had_sea_level_pressure', 'had_wind_direction',\n",
       "       'had_wind_speed', 'tm_day_of_week', 'tm_hour_of_day'],\n",
       "      dtype='object')"
      ]
     },
     "execution_count": 6,
     "metadata": {},
     "output_type": "execute_result"
    }
   ],
   "source": [
    "X_train.columns"
   ]
  },
  {
   "cell_type": "markdown",
   "metadata": {},
   "source": [
    "Convert y_train and y_test to log space as this helps minimize error"
   ]
  },
  {
   "cell_type": "code",
   "execution_count": 7,
   "metadata": {},
   "outputs": [],
   "source": [
    "y_train = np.log1p(y_train)\n",
    "y_test = np.log1p(y_test)"
   ]
  },
  {
   "cell_type": "markdown",
   "metadata": {
    "colab_type": "text",
    "id": "lKhN6uvB_hme"
   },
   "source": [
    "## Train Linear Regression and LGBM Model"
   ]
  },
  {
   "cell_type": "markdown",
   "metadata": {
    "colab_type": "text",
    "id": "RulBpcOf_hmk"
   },
   "source": [
    "Fit LGBM model (note that this class takes in a DataFrame)"
   ]
  },
  {
   "cell_type": "code",
   "execution_count": 8,
   "metadata": {},
   "outputs": [],
   "source": [
    "def np_sample(a, frac):\n",
    "    return a if frac == 1 else np.random.choice(a, int(len(a) * frac), replace=False)\n",
    "\n",
    "def make_8121_splits(X, sample_frac):\n",
    "    np.random.seed(0)\n",
    "    time_sorted_idx = np.argsort(X.timestamp.values, kind='stable')\n",
    "    sections = np.array_split(time_sorted_idx, 12)\n",
    "    folds = []\n",
    "    for start_ix in range(0, 12, 2):\n",
    "        val_idxs = np.concatenate(sections[start_ix:start_ix + 2])  # no modulo necessary\n",
    "        train_idxs = np.concatenate(\n",
    "            [sections[ix % 12] for ix in range(start_ix + 3, start_ix + 11)])\n",
    "        folds.append((np_sample(train_idxs, sample_frac), np_sample(val_idxs, sample_frac)))\n",
    "    return folds\n",
    "\n",
    "def make_cv_predictions(model, split, X, y):\n",
    "    preds = []\n",
    "    for ix, (train_fold, val_fold) in enumerate(split):\n",
    "        # Train\n",
    "        Xt = X.iloc[train_fold]\n",
    "        yt = y.reindex_like(Xt)\n",
    "        # Validation\n",
    "        Xv = X.iloc[val_fold]\n",
    "        yv = y.reindex_like(Xv)\n",
    "        # Fit Train\n",
    "        model.fit(Xt, yt)\n",
    "        # Make Predictions\n",
    "        preds.append(pd.DataFrame(dict(target=yv, prediction=model.predict(Xv)), index=yv.index))\n",
    "    result = pd.concat(preds).sort_index()\n",
    "    return result.target, result.prediction"
   ]
  },
  {
   "cell_type": "markdown",
   "metadata": {},
   "source": [
    "Create model."
   ]
  },
  {
   "cell_type": "code",
   "execution_count": 9,
   "metadata": {},
   "outputs": [],
   "source": [
    "model = CatSplitRegressor(LGBMWrapper(categorical_feature = categorical_columns), \"meter\")"
   ]
  },
  {
   "cell_type": "markdown",
   "metadata": {},
   "source": [
    "Split training set by time stamp. drop timestamps, then make cross val precitions."
   ]
  },
  {
   "cell_type": "code",
   "execution_count": 10,
   "metadata": {},
   "outputs": [],
   "source": [
    "splits = make_8121_splits(X_train, 0.2)\n",
    "X_train = X_train.drop(columns=\"timestamp\")  # Raw timestamp doesn't carry over to test data\n",
    "sampled_y, sampled_prediction = make_cv_predictions(model, splits, X_train, y_train)"
   ]
  },
  {
   "cell_type": "markdown",
   "metadata": {
    "colab_type": "text",
    "id": "Kl2X8uvl_hmm"
   },
   "source": [
    "## Look at Predictions"
   ]
  },
  {
   "cell_type": "code",
   "execution_count": 17,
   "metadata": {
    "colab": {
     "base_uri": "https://localhost:8080/",
     "height": 34
    },
    "colab_type": "code",
    "id": "P2xPEphP_hmx",
    "outputId": "f4615f3c-cabf-4f90-b842-66be18912f67"
   },
   "outputs": [
    {
     "name": "stdout",
     "output_type": "stream",
     "text": [
      "0.42364902072234817\n"
     ]
    }
   ],
   "source": [
    "sampled_y = np.expm1(sampled_y)\n",
    "sampled_prediction = np.expm1(sampled_prediction)\n",
    "rmsle = np.sqrt(mean_squared_log_error(sampled_y, np.clip(sampled_prediction, 0, None)))\n",
    "print(rmsle)"
   ]
  },
  {
   "cell_type": "code",
   "execution_count": 12,
   "metadata": {
    "colab": {
     "base_uri": "https://localhost:8080/",
     "height": 99
    },
    "colab_type": "code",
    "id": "LNBO01kR_hm5",
    "outputId": "386b0291-051b-49b7-eb4f-44588d633f84"
   },
   "outputs": [
    {
     "data": {
      "text/html": [
       "<div>\n",
       "<style scoped>\n",
       "    .dataframe tbody tr th:only-of-type {\n",
       "        vertical-align: middle;\n",
       "    }\n",
       "\n",
       "    .dataframe tbody tr th {\n",
       "        vertical-align: top;\n",
       "    }\n",
       "\n",
       "    .dataframe thead th {\n",
       "        text-align: right;\n",
       "    }\n",
       "</style>\n",
       "<table border=\"1\" class=\"dataframe\">\n",
       "  <thead>\n",
       "    <tr style=\"text-align: right;\">\n",
       "      <th></th>\n",
       "      <th>building_id</th>\n",
       "      <th>air_temperature</th>\n",
       "      <th>dew_temperature</th>\n",
       "      <th>tm_hour_of_day</th>\n",
       "      <th>sea_level_pressure</th>\n",
       "      <th>wind_direction</th>\n",
       "      <th>tm_day_of_week</th>\n",
       "      <th>square_feet</th>\n",
       "      <th>cloud_coverage</th>\n",
       "      <th>wind_speed</th>\n",
       "      <th>...</th>\n",
       "      <th>floor_count</th>\n",
       "      <th>had_cloud_coverage</th>\n",
       "      <th>primary_use</th>\n",
       "      <th>had_precip_depth_1_hr</th>\n",
       "      <th>had_wind_speed</th>\n",
       "      <th>had_sea_level_pressure</th>\n",
       "      <th>had_dew_temperature</th>\n",
       "      <th>had_wind_direction</th>\n",
       "      <th>had_air_temperature</th>\n",
       "      <th>meter</th>\n",
       "    </tr>\n",
       "  </thead>\n",
       "  <tbody>\n",
       "    <tr>\n",
       "      <td>Importance</td>\n",
       "      <td>1372.0</td>\n",
       "      <td>365.5</td>\n",
       "      <td>295.25</td>\n",
       "      <td>273.5</td>\n",
       "      <td>171.5</td>\n",
       "      <td>93.5</td>\n",
       "      <td>87.75</td>\n",
       "      <td>83.75</td>\n",
       "      <td>68.0</td>\n",
       "      <td>51.25</td>\n",
       "      <td>...</td>\n",
       "      <td>12.0</td>\n",
       "      <td>9.75</td>\n",
       "      <td>8.5</td>\n",
       "      <td>1.0</td>\n",
       "      <td>0.75</td>\n",
       "      <td>0.5</td>\n",
       "      <td>0.25</td>\n",
       "      <td>0.25</td>\n",
       "      <td>0.0</td>\n",
       "      <td>0.0</td>\n",
       "    </tr>\n",
       "  </tbody>\n",
       "</table>\n",
       "<p>1 rows × 23 columns</p>\n",
       "</div>"
      ],
      "text/plain": [
       "            building_id  air_temperature  dew_temperature  tm_hour_of_day  \\\n",
       "Importance       1372.0            365.5           295.25           273.5   \n",
       "\n",
       "            sea_level_pressure  wind_direction  tm_day_of_week  square_feet  \\\n",
       "Importance               171.5            93.5           87.75        83.75   \n",
       "\n",
       "            cloud_coverage  wind_speed  ...  floor_count  had_cloud_coverage  \\\n",
       "Importance            68.0       51.25  ...         12.0                9.75   \n",
       "\n",
       "            primary_use  had_precip_depth_1_hr  had_wind_speed  \\\n",
       "Importance          8.5                    1.0            0.75   \n",
       "\n",
       "            had_sea_level_pressure  had_dew_temperature  had_wind_direction  \\\n",
       "Importance                     0.5                 0.25                0.25   \n",
       "\n",
       "            had_air_temperature  meter  \n",
       "Importance                  0.0    0.0  \n",
       "\n",
       "[1 rows x 23 columns]"
      ]
     },
     "metadata": {},
     "output_type": "display_data"
    }
   ],
   "source": [
    "importances = pd.Series(model.feature_importances_, index=X_train.columns).rename(\"Importance\")\n",
    "display(importances.sort_values(ascending=False).to_frame().T)"
   ]
  },
  {
   "cell_type": "code",
   "execution_count": 16,
   "metadata": {},
   "outputs": [
    {
     "data": {
      "text/plain": [
       "building_id               1372.00\n",
       "meter                        0.00\n",
       "site_id                     47.25\n",
       "primary_use                  8.50\n",
       "square_feet                 83.75\n",
       "year_built                  22.00\n",
       "floor_count                 12.00\n",
       "air_temperature            365.50\n",
       "cloud_coverage              68.00\n",
       "dew_temperature            295.25\n",
       "precip_depth_1_hr           35.75\n",
       "sea_level_pressure         171.50\n",
       "wind_direction              93.50\n",
       "wind_speed                  51.25\n",
       "had_air_temperature          0.00\n",
       "had_cloud_coverage           9.75\n",
       "had_dew_temperature          0.25\n",
       "had_precip_depth_1_hr        1.00\n",
       "had_sea_level_pressure       0.50\n",
       "had_wind_direction           0.25\n",
       "had_wind_speed               0.75\n",
       "tm_day_of_week              87.75\n",
       "tm_hour_of_day             273.50\n",
       "Name: Importance, dtype: float64"
      ]
     },
     "execution_count": 16,
     "metadata": {},
     "output_type": "execute_result"
    }
   ],
   "source": [
    "importances"
   ]
  },
  {
   "cell_type": "markdown",
   "metadata": {},
   "source": [
    "# Save Model"
   ]
  },
  {
   "cell_type": "code",
   "execution_count": 13,
   "metadata": {},
   "outputs": [],
   "source": [
    "pkl_filename = \"lgbm_model.pkl\"\n",
    "with open(pkl_filename, 'wb') as file:\n",
    "    pickle.dump(lgbm_reg_clf, file)"
   ]
  },
  {
   "cell_type": "code",
   "execution_count": 14,
   "metadata": {},
   "outputs": [
    {
     "data": {
      "text/plain": [
       "0           1.167155\n",
       "2           0.730165\n",
       "5           0.560158\n",
       "17          1.051912\n",
       "18          1.293673\n",
       "              ...   \n",
       "20216078    1.521131\n",
       "20216080    1.483939\n",
       "20216085    1.909814\n",
       "20216088    2.084989\n",
       "20216098    1.823721\n",
       "Name: prediction, Length: 3234576, dtype: float64"
      ]
     },
     "execution_count": 14,
     "metadata": {},
     "output_type": "execute_result"
    }
   ],
   "source": [
    "np.clip(sampled_prediction, 0, None)"
   ]
  },
  {
   "cell_type": "code",
   "execution_count": 15,
   "metadata": {},
   "outputs": [
    {
     "ename": "ValueError",
     "evalue": "Mean Squared Logarithmic Error cannot be used when targets contain negative values.",
     "output_type": "error",
     "traceback": [
      "\u001b[1;31m---------------------------------------------------------------------------\u001b[0m",
      "\u001b[1;31mValueError\u001b[0m                                Traceback (most recent call last)",
      "\u001b[1;32m<ipython-input-15-ae9c075f3e29>\u001b[0m in \u001b[0;36m<module>\u001b[1;34m\u001b[0m\n\u001b[1;32m----> 1\u001b[1;33m \u001b[0mnp\u001b[0m\u001b[1;33m.\u001b[0m\u001b[0msqrt\u001b[0m\u001b[1;33m(\u001b[0m\u001b[0mmean_squared_log_error\u001b[0m\u001b[1;33m(\u001b[0m\u001b[0msampled_y\u001b[0m\u001b[1;33m,\u001b[0m \u001b[0msampled_prediction\u001b[0m\u001b[1;33m)\u001b[0m\u001b[1;33m)\u001b[0m\u001b[1;33m\u001b[0m\u001b[1;33m\u001b[0m\u001b[0m\n\u001b[0m",
      "\u001b[1;32m~\\AppData\\Local\\Continuum\\anaconda3\\lib\\site-packages\\sklearn\\metrics\\regression.py\u001b[0m in \u001b[0;36mmean_squared_log_error\u001b[1;34m(y_true, y_pred, sample_weight, multioutput)\u001b[0m\n\u001b[0;32m    314\u001b[0m \u001b[1;33m\u001b[0m\u001b[0m\n\u001b[0;32m    315\u001b[0m     \u001b[1;32mif\u001b[0m \u001b[1;33m(\u001b[0m\u001b[0my_true\u001b[0m \u001b[1;33m<\u001b[0m \u001b[1;36m0\u001b[0m\u001b[1;33m)\u001b[0m\u001b[1;33m.\u001b[0m\u001b[0many\u001b[0m\u001b[1;33m(\u001b[0m\u001b[1;33m)\u001b[0m \u001b[1;32mor\u001b[0m \u001b[1;33m(\u001b[0m\u001b[0my_pred\u001b[0m \u001b[1;33m<\u001b[0m \u001b[1;36m0\u001b[0m\u001b[1;33m)\u001b[0m\u001b[1;33m.\u001b[0m\u001b[0many\u001b[0m\u001b[1;33m(\u001b[0m\u001b[1;33m)\u001b[0m\u001b[1;33m:\u001b[0m\u001b[1;33m\u001b[0m\u001b[1;33m\u001b[0m\u001b[0m\n\u001b[1;32m--> 316\u001b[1;33m         raise ValueError(\"Mean Squared Logarithmic Error cannot be used when \"\n\u001b[0m\u001b[0;32m    317\u001b[0m                          \"targets contain negative values.\")\n\u001b[0;32m    318\u001b[0m \u001b[1;33m\u001b[0m\u001b[0m\n",
      "\u001b[1;31mValueError\u001b[0m: Mean Squared Logarithmic Error cannot be used when targets contain negative values."
     ]
    }
   ],
   "source": [
    "np.sqrt(mean_squared_log_error(sampled_y, sampled_prediction))"
   ]
  },
  {
   "cell_type": "code",
   "execution_count": null,
   "metadata": {},
   "outputs": [],
   "source": []
  }
 ],
 "metadata": {
  "accelerator": "GPU",
  "colab": {
   "machine_shape": "hm",
   "name": "ML_Stuff.ipynb",
   "provenance": []
  },
  "kernelspec": {
   "display_name": "Python 3",
   "language": "python",
   "name": "python3"
  },
  "language_info": {
   "codemirror_mode": {
    "name": "ipython",
    "version": 3
   },
   "file_extension": ".py",
   "mimetype": "text/x-python",
   "name": "python",
   "nbconvert_exporter": "python",
   "pygments_lexer": "ipython3",
   "version": "3.6.9"
  }
 },
 "nbformat": 4,
 "nbformat_minor": 1
}
